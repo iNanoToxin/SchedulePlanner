{
 "cells": [
  {
   "cell_type": "code",
   "execution_count": 2,
   "metadata": {},
   "outputs": [
    {
     "name": "stdout",
     "output_type": "stream",
     "text": [
      "IgnoredCourse({\n",
      "    \"course\": \"MATH201\",\n",
      "    \"section\": \"343\",\n",
      "    \"teacher\": \"bob williams\",\n",
      "    \"instructional_method\": None,\n",
      "})\n"
     ]
    }
   ],
   "source": [
    "from typing_extensions import Annotated\n",
    "from pydantic import BaseModel, StringConstraints\n",
    "from typing import Optional, Union, List, Literal\n",
    "from school.courses import CourseSection\n",
    "from util.print import pprint\n",
    "\n",
    "CourseConstraint = Annotated[str, StringConstraints(pattern=r\"^[A-Z]+\\d+$\")]\n",
    "SectionConstraint = Annotated[str, StringConstraints(pattern=r\"^\\d+$\")]\n",
    "TeacherConstraint = Annotated[str, StringConstraints(strip_whitespace=True, to_lower=True)]\n",
    "\n",
    "\n",
    "class SelectedCourse(BaseModel):\n",
    "    course: CourseConstraint\n",
    "    section: SectionConstraint\n",
    "\n",
    "\n",
    "class IgnoredCourse(BaseModel):\n",
    "    course: CourseConstraint\n",
    "    section: Optional[Union[List[SectionConstraint], SectionConstraint]] = None\n",
    "    teacher: Optional[Union[List[TeacherConstraint], TeacherConstraint]] = None\n",
    "    instructional_method: Optional[Literal[\"CLAS\", \"OLL\"]] = None\n",
    "\n",
    "    def is_ignored(self, _course_section: CourseSection):\n",
    "        \"\"\"\n",
    "        docstring\n",
    "        \"\"\"\n",
    "        if self.section:\n",
    "            if isinstance(self.section, list):\n",
    "                if _course_section.sequenceNumber in self.section:\n",
    "                    return True\n",
    "            else:\n",
    "                if _course_section.sequenceNumber == self.section:\n",
    "                    return True\n",
    "\n",
    "        if self.teacher:\n",
    "            faculty_names = [faculty.get_name().lower() for faculty in _course_section.faculty]\n",
    "\n",
    "            if isinstance(self.teacher, list):\n",
    "                if any(teacher_name in faculty_names for teacher_name in self.teacher):\n",
    "                    return True\n",
    "            else:\n",
    "                if self.teacher in faculty_names:\n",
    "                    return True\n",
    "\n",
    "        if self.instructional_method:\n",
    "            if _course_section.instructionalMethod == self.instructional_method:\n",
    "                return True\n",
    "\n",
    "        return False\n",
    "\n",
    "\n",
    "pprint(IgnoredCourse(course=\"MATH201\", section=\"343\", teacher=\"BOB WILLIAMS\"))"
   ]
  }
 ],
 "metadata": {
  "kernelspec": {
   "display_name": ".venv",
   "language": "python",
   "name": "python3"
  },
  "language_info": {
   "codemirror_mode": {
    "name": "ipython",
    "version": 3
   },
   "file_extension": ".py",
   "mimetype": "text/x-python",
   "name": "python",
   "nbconvert_exporter": "python",
   "pygments_lexer": "ipython3",
   "version": "3.12.4"
  }
 },
 "nbformat": 4,
 "nbformat_minor": 2
}
