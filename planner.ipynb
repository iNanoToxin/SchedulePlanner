{
 "cells": [
  {
   "cell_type": "code",
   "execution_count": 1,
   "metadata": {},
   "outputs": [],
   "source": [
    "from colleges.temple_session import TUSession\n",
    "from dotenv import load_dotenv\n",
    "from os import getenv\n",
    "\n",
    "load_dotenv(override=True)\n",
    "\n",
    "session = TUSession()\n",
    "session.login(username=getenv(\"USERNAME\"), password=getenv(\"PASSWORD\"), disable_gui=True)"
   ]
  },
  {
   "cell_type": "code",
   "execution_count": null,
   "metadata": {},
   "outputs": [],
   "source": [
    "session.print_terms(max=2)"
   ]
  },
  {
   "cell_type": "code",
   "execution_count": 3,
   "metadata": {},
   "outputs": [],
   "source": [
    "from school.course_builder import CourseSelect, CourseIgnore  # noqa: F401\n",
    "\n",
    "TERM = 202503\n",
    "\n",
    "SELECTED_COURSES = [\n",
    "    CourseSelect(course=\"PHYS1021\"),\n",
    "    CourseSelect(course=\"MATH2043\"),\n",
    "    CourseSelect(course=\"IH0851\", section=\"707\"),\n",
    "    CourseSelect(course=\"CIS1068\"),\n",
    "]\n",
    "\n",
    "IGNORED_COURSES = [\n",
    "    CourseIgnore(course=\"PHYS1021\", waitlist=True),\n",
    "    CourseIgnore(course=\"MATH2043\", waitlist=True),\n",
    "    CourseIgnore(course=\"CIS1068\", waitlist=True),\n",
    "]"
   ]
  },
  {
   "cell_type": "code",
   "execution_count": null,
   "metadata": {},
   "outputs": [],
   "source": [
    "from school.course_builder import CourseBuilder\n",
    "from school.schedule import ScheduleCompare, SchedulePlot\n",
    "\n",
    "def s_sort(_schedule: SchedulePlot):\n",
    "    return (\n",
    "        5 - ScheduleCompare.teacher_rating(_schedule),\n",
    "        ScheduleCompare.between_total(_schedule),\n",
    "        # ScheduleCompare.week_range(_schedule),\n",
    "    )\n",
    "\n",
    "course_builder = CourseBuilder(session)\n",
    "course_builder.select_term(TERM)\n",
    "course_builder.select(SELECTED_COURSES)\n",
    "course_builder.ignore(IGNORED_COURSES)\n",
    "course_builder.plot(sort=s_sort, max=10, font_size=10)"
   ]
  }
 ],
 "metadata": {
  "kernelspec": {
   "display_name": ".venv",
   "language": "python",
   "name": "python3"
  },
  "language_info": {
   "codemirror_mode": {
    "name": "ipython",
    "version": 3
   },
   "file_extension": ".py",
   "mimetype": "text/x-python",
   "name": "python",
   "nbconvert_exporter": "python",
   "pygments_lexer": "ipython3",
   "version": "3.12.4"
  }
 },
 "nbformat": 4,
 "nbformat_minor": 2
}
