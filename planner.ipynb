{
 "cells": [
  {
   "cell_type": "markdown",
   "metadata": {},
   "source": [
    "# Getting Courses\n",
    "---"
   ]
  },
  {
   "cell_type": "markdown",
   "metadata": {},
   "source": [
    "Set username and password if you want to login automatically. Not required."
   ]
  },
  {
   "cell_type": "code",
   "execution_count": 1,
   "metadata": {},
   "outputs": [],
   "source": [
    "USERNAME = \"\"\n",
    "PASSWORD = \"\""
   ]
  },
  {
   "cell_type": "markdown",
   "metadata": {},
   "source": [
    "Log into temple and wait for the request session to be created."
   ]
  },
  {
   "cell_type": "code",
   "execution_count": null,
   "metadata": {},
   "outputs": [],
   "source": [
    "from temple.planner import TUPlanner\n",
    "\n",
    "planner = TUPlanner(username=USERNAME, password=PASSWORD)"
   ]
  },
  {
   "cell_type": "markdown",
   "metadata": {},
   "source": [
    "Once the session has been created, execute the cell below to get the code for the term you are planning course for."
   ]
  },
  {
   "cell_type": "code",
   "execution_count": null,
   "metadata": {},
   "outputs": [],
   "source": [
    "planner.print_terms(3)"
   ]
  },
  {
   "cell_type": "markdown",
   "metadata": {},
   "source": [
    "Once you have retrieved the term code, update the `TERM_CODE` variable with the code and specify which courses you are planning to take."
   ]
  },
  {
   "cell_type": "code",
   "execution_count": 7,
   "metadata": {},
   "outputs": [],
   "source": [
    "TERM_CODE = 202503"
   ]
  },
  {
   "cell_type": "markdown",
   "metadata": {},
   "source": [
    "# Plotting Courses\n",
    "---"
   ]
  },
  {
   "cell_type": "code",
   "execution_count": 8,
   "metadata": {},
   "outputs": [],
   "source": [
    "SELECTED_COURSES = [\"MATH2043\", \"IH0851\", \"MATH2101\", \"CIS1068\"] # \"CIS2033\"\n",
    "# SELECTED_COURSES = [\"CIS1057\", \"CIS1166\", \"ENG0802\", \"CIS1001\", \"SCTC1001\"]"
   ]
  },
  {
   "cell_type": "code",
   "execution_count": 12,
   "metadata": {
    "notebookRunGroups": {
     "groupValue": "1"
    }
   },
   "outputs": [],
   "source": [
    "from temple.schedule import Schedule, ScheduleCompare\n",
    "from itertools import product\n",
    "\n",
    "def get_schedule_combos(_course_list: list[str]) -> list[tuple]:\n",
    "    all_sections = []\n",
    "    for course_name in set(_course_list):\n",
    "        # Fetch all section info for selected courses\n",
    "        success, result = planner.get_course_sections(course_name, TERM_CODE)\n",
    "\n",
    "        if not success:\n",
    "            print(\"Failed to get course info.\")\n",
    "            return []\n",
    "        else:\n",
    "            # Append list of sections for each course so that we can get the cartesian product\n",
    "            all_sections.append([section for section in result])\n",
    "\n",
    "    # Get the cartesian product of all sections\n",
    "    return list(product(*all_sections))"
   ]
  },
  {
   "cell_type": "code",
   "execution_count": 13,
   "metadata": {},
   "outputs": [],
   "source": [
    "schedule_combos = get_schedule_combos(SELECTED_COURSES)"
   ]
  },
  {
   "cell_type": "code",
   "execution_count": null,
   "metadata": {
    "notebookRunGroups": {
     "groupValue": "1"
    }
   },
   "outputs": [],
   "source": [
    "schedules = set(Schedule(schedule) for schedule in schedule_combos)\n",
    "schedules = sorted(filter(ScheduleCompare.not_overlap, schedules), key=lambda x: ScheduleCompare.between_total(x) * ScheduleCompare.week_total(x))\n",
    "schedules = list(schedules)[:5]\n",
    "print(len(schedules))"
   ]
  },
  {
   "cell_type": "code",
   "execution_count": null,
   "metadata": {},
   "outputs": [],
   "source": [
    "from IPython.display import Markdown, display\n",
    "\n",
    "\n",
    "def render_table(headers: list[str], rows: list[list[str]]):\n",
    "    # Create the header row\n",
    "    md = \"| \" + \" | \".join(headers) + \" |\\n\"\n",
    "    md += \"| \" + \" | \".join([\"---\"] * len(headers)) + \" |\\n\"  # Separator row\n",
    "\n",
    "    # Add each row of data\n",
    "    for row in rows:\n",
    "        md += \"| \" + \" | \".join(row) + \" |\\n\"\n",
    "\n",
    "    display(Markdown(md))\n",
    "\n",
    "for schedule in schedules:\n",
    "    print(\n",
    "        f\"WEEK_RANGE: {ScheduleCompare.week_range(schedule):.2f} hrs, \"\n",
    "        f\"WEEK_TOTAL: {ScheduleCompare.week_total(schedule):.2f} hrs, \"\n",
    "        f\"BREAK_TOTAL: {ScheduleCompare.between_total(schedule):.2f} hrs\"\n",
    "    )\n",
    "    render_table([\"Class\", \"Section\"], [*schedule.get_classes().items()])\n",
    "\n",
    "    schedule.show()"
   ]
  },
  {
   "cell_type": "code",
   "execution_count": null,
   "metadata": {},
   "outputs": [],
   "source": [
    "import base64\n",
    "\n",
    "def base64decode(_str: str):\n",
    "    return base64.b64decode(_str.encode()).decode()\n",
    "\n",
    "def base64encode(_str: str):\n",
    "    return base64.b64encode(_str.encode()).decode()\n",
    "\n",
    "print(base64decode(\"YXJyYXljb25uZWN0aW9uOjc=\"))\n",
    "\n",
    "print(base64encode(\"test:test\"))\n",
    "print(base64encode(f\"arrayconnection:{15}\"))"
   ]
  },
  {
   "cell_type": "code",
   "execution_count": null,
   "metadata": {},
   "outputs": [],
   "source": [
    "import requests\n",
    "import json\n",
    "\n",
    "with open(\"teacher_query.graphql\", \"r\") as file:\n",
    "    TEACHER_GQL = file.read()\n",
    "\n",
    "with open(\"school_query.graphql\", \"r\") as file:\n",
    "    SCHOOL_GQL = file.read()\n",
    "\n",
    "response = requests.post(\n",
    "    \"https://www.ratemyprofessors.com/graphql\",\n",
    "    json={\n",
    "        \"query\": TEACHER_GQL,\n",
    "        \"variables\": {\n",
    "            \"count\": 20,\n",
    "            \"cursor\": base64encode(f\"arrayconnection:{-1}\"),\n",
    "            \"query\": {\n",
    "                \"text\": \"\",\n",
    "                \"schoolID\": base64encode(\"School-999\"),\n",
    "                \"fallback\": \"true\",\n",
    "            },\n",
    "        },\n",
    "    },\n",
    "    # json={\n",
    "    #     \"query\": SCHOOL_GQL,\n",
    "    #     \"variables\": {\n",
    "    #         \"count\": 100,\n",
    "    #         \"cursor\": base64encode(f\"arrayconnection:{-1}\"),\n",
    "    #         \"query\": {\n",
    "    #             \"text\": \"Temple University\",\n",
    "    #         },\n",
    "    #     },\n",
    "    # },\n",
    "    headers={\"Authorization\": f\"Basic {base64encode(\"test:test\")}\"},\n",
    ")\n",
    "\n",
    "\n",
    "print(response.status_code)\n",
    "\n",
    "try:\n",
    "    teachers = [\n",
    "        f\"{teacher[\"node\"][\"firstName\"]} {teacher[\"node\"][\"lastName\"]}\"\n",
    "        for teacher in response.json()[\"data\"][\"search\"][\"teachers\"][\"edges\"]\n",
    "    ]\n",
    "\n",
    "    print(json.dumps(teachers, indent=4))\n",
    "    print(len(teachers))\n",
    "\n",
    "    # schools = [\n",
    "    #     school[\"node\"][\"name\"]\n",
    "    #     for school in response.json()[\"data\"][\"search\"][\"schools\"][\"edges\"]\n",
    "    # ]\n",
    "    # print(json.dumps(schools, indent=4))\n",
    "    # print(len(schools))\n",
    "    # print(json.dumps(response.json(), indent=4))\n",
    "except Exception:\n",
    "    print(json.dumps(response.json(), indent=4))"
   ]
  }
 ],
 "metadata": {
  "kernelspec": {
   "display_name": ".venv",
   "language": "python",
   "name": "python3"
  },
  "language_info": {
   "codemirror_mode": {
    "name": "ipython",
    "version": 3
   },
   "file_extension": ".py",
   "mimetype": "text/x-python",
   "name": "python",
   "nbconvert_exporter": "python",
   "pygments_lexer": "ipython3",
   "version": "3.12.4"
  }
 },
 "nbformat": 4,
 "nbformat_minor": 2
}
