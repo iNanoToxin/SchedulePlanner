{
 "cells": [
  {
   "cell_type": "code",
   "execution_count": 1,
   "metadata": {},
   "outputs": [],
   "source": [
    "from temple.planner import TUPlanner\n",
    "\n",
    "planner = TUPlanner()\n",
    "planner.login(username=\"\", password=\"\")\n",
    "planner.select_term(202503)"
   ]
  },
  {
   "cell_type": "code",
   "execution_count": null,
   "metadata": {},
   "outputs": [],
   "source": [
    "from util.print import pprint\n",
    "from school.courses import CourseSection\n",
    "\n",
    "\n",
    "def sec_flt(c: CourseSection):\n",
    "    if c.subjectCourse == \"IH0851\":\n",
    "        return c.instructionalMethod == \"OLL\"\n",
    "    return True\n",
    "\n",
    "\n",
    "planner.select_courses([\"MATH2043\", \"IH0851\", \"CIS1068\", \"MATH2101\"])\n",
    "planner.set_filter(sec_flt)\n",
    "course_combos = planner.get_combinations(waitlist=True)\n",
    "\n",
    "\n",
    "# pprint(schedule_combos)\n",
    "pprint(len(course_combos))\n"
   ]
  },
  {
   "cell_type": "code",
   "execution_count": null,
   "metadata": {},
   "outputs": [],
   "source": [
    "from school.schedule import SchedulePlot, ScheduleCompare\n",
    "\n",
    "schedules = [SchedulePlot(course_section) for course_section in course_combos]\n",
    "schedules = sorted(\n",
    "    schedules,\n",
    "    key=lambda s: (100000 - ScheduleCompare.teacher_rating(s), ScheduleCompare.between_total(s)),\n",
    "    # schedules, key=lambda s: ScheduleCompare.week_range(s)\n",
    ")\n",
    "schedules = list(schedules)[:5]\n",
    "\n",
    "# print(len(schedules))\n",
    "\n",
    "for index, schedule in enumerate(schedules):\n",
    "    schedule.print_stats()\n",
    "    schedule.show(title=f\"Semester Schedule {index + 1}\")"
   ]
  },
  {
   "cell_type": "code",
   "execution_count": null,
   "metadata": {},
   "outputs": [],
   "source": [
    "from ratemyprofessor.database import RateMyProfessor, School\n",
    "from util.print import pprint\n",
    "\n",
    "# Drexel University: U2Nob29sLTE1MjE=\n",
    "\n",
    "\n",
    "def obj_hook(obj, *args, **kwargs):\n",
    "    if isinstance(obj, School):\n",
    "        del obj.departments\n",
    "        del obj.summary\n",
    "\n",
    "\n",
    "api = RateMyProfessor()\n",
    "pprint(api.get_schools(\"Drexel University\"), cls=obj_hook)"
   ]
  }
 ],
 "metadata": {
  "kernelspec": {
   "display_name": ".venv",
   "language": "python",
   "name": "python3"
  },
  "language_info": {
   "codemirror_mode": {
    "name": "ipython",
    "version": 3
   },
   "file_extension": ".py",
   "mimetype": "text/x-python",
   "name": "python",
   "nbconvert_exporter": "python",
   "pygments_lexer": "ipython3",
   "version": "3.12.7"
  }
 },
 "nbformat": 4,
 "nbformat_minor": 2
}
