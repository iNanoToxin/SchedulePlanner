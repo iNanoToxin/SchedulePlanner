{
 "cells": [
  {
   "cell_type": "markdown",
   "metadata": {},
   "source": [
    "# Getting Courses\n",
    "---"
   ]
  },
  {
   "cell_type": "markdown",
   "metadata": {},
   "source": [
    "Set username and password if you want to login automatically. Not required."
   ]
  },
  {
   "cell_type": "code",
   "execution_count": 1,
   "metadata": {},
   "outputs": [],
   "source": [
    "USERNAME = \"\"\n",
    "PASSWORD = \"\""
   ]
  },
  {
   "cell_type": "markdown",
   "metadata": {},
   "source": [
    "Log into temple and wait for the request session to be created."
   ]
  },
  {
   "cell_type": "code",
   "execution_count": 2,
   "metadata": {},
   "outputs": [],
   "source": [
    "from temple.planner import TUPlanner\n",
    "\n",
    "planner = TUPlanner(username=USERNAME, password=PASSWORD)"
   ]
  },
  {
   "cell_type": "markdown",
   "metadata": {},
   "source": [
    "Once the session has been created, execute the cell below to get the code for the term you are planning course for."
   ]
  },
  {
   "cell_type": "code",
   "execution_count": null,
   "metadata": {},
   "outputs": [],
   "source": [
    "planner.print_terms(3)"
   ]
  },
  {
   "cell_type": "markdown",
   "metadata": {},
   "source": [
    "Once you have retrieved the term code, update the `TERM_CODE` variable with the code and specify which courses you are planning to take."
   ]
  },
  {
   "cell_type": "code",
   "execution_count": 4,
   "metadata": {},
   "outputs": [],
   "source": [
    "TERM_CODE = 202503"
   ]
  },
  {
   "cell_type": "markdown",
   "metadata": {},
   "source": [
    "# Plotting Courses\n",
    "---"
   ]
  },
  {
   "cell_type": "code",
   "execution_count": 5,
   "metadata": {},
   "outputs": [],
   "source": [
    "SELECTED_COURSES = [\"MATH2043\", \"IH0851\", \"MATH2101\", \"CIS1068\"] # \"CIS2033\"\n",
    "# SELECTED_COURSES = [\"CIS1057\", \"CIS1166\", \"ENG0802\", \"CIS1001\", \"SCTC1001\"]"
   ]
  },
  {
   "cell_type": "code",
   "execution_count": 6,
   "metadata": {},
   "outputs": [],
   "source": [
    "\n",
    "import json\n",
    "\n",
    "\n",
    "planner.select_term(TERM_CODE)\n",
    "planner.select_courses(SELECTED_COURSES)\n",
    "# planner.filter_sections({\n",
    "#     \"MATH2101\": [\"001\"]\n",
    "# })\n",
    "# planner.filter_teachers({\n",
    "#     \"MATH2101\": [\"Erik Wallace\"]\n",
    "# })\n",
    "\n",
    "# planner.set_filter(lambda s: s[\"sequenceNumber\"] == \"001\")\n",
    "\n",
    "schedule_combos = planner.get_combinations()\n",
    "\n",
    "# print(json.dumps(schedule_combos, indent=4))\n",
    "\n",
    "# print(json.dumps(a.get_schema(), indent=4))\n",
    "\n",
    "# print(a.get_teacher(\"VGVhY2hlci0xMDA4OTk=\"))\n",
    "\n",
    "# print(json.dumps(a.get_schools(\"Temple University\"), indent=4))\n",
    "# print(json.dumps(a.get_teachers(\"John Davies\", \"U2Nob29sLTk5OQ==\"), indent=4))\n",
    "# print(json.dumps(a.get_teacher_rating(\"VGVhY2hlci0xMDA4OTk=\"), indent=4))\n",
    "\n",
    "\n",
    "# for teacher in a.get_teachers(\"John Davies\", \"U2Nob29sLTk5OQ==\", offset=-1):\n",
    "#     print(teacher)"
   ]
  },
  {
   "cell_type": "code",
   "execution_count": null,
   "metadata": {
    "notebookRunGroups": {
     "groupValue": "1"
    }
   },
   "outputs": [],
   "source": [
    "from temple.schedule import Schedule, ScheduleCompare\n",
    "\n",
    "schedules = set(Schedule(schedule) for schedule in schedule_combos)\n",
    "schedules = sorted(filter(ScheduleCompare.not_overlap, schedules), key=lambda x: (100000 - ScheduleCompare.teacher_rating(x, penalty_rating=0.0, penalty_num_ratings=100.0), ScheduleCompare.between_total(x)))\n",
    "# schedules = list(schedules)[:5]\n",
    "print(len(schedules))"
   ]
  },
  {
   "cell_type": "code",
   "execution_count": null,
   "metadata": {},
   "outputs": [],
   "source": [
    "for i in range(len(schedules)):\n",
    "    print(i)\n",
    "    found = set()\n",
    "    for class_type in dict(sorted(schedules[i].classes.items(), key=lambda t: t[0])).values():\n",
    "        for _class in sorted(class_type, key=lambda c: c.subject_course):\n",
    "            if _class.subject_course not in found:\n",
    "                found.add(_class.subject_course)\n",
    "                teachers = _class.get_teachers()\n",
    "                if len(teachers) == 0:\n",
    "                    print(\"  \", _class.subject_course, _class.section, \"Teacher(Unknown)\")\n",
    "                else:\n",
    "                    for _teacher in teachers:\n",
    "                            print(\"  \", _class.subject_course, _class.section, _teacher)\n",
    "    print(\"  \", \"RATING:\", ScheduleCompare.teacher_rating(schedules[i], penalty_rating=0.0, penalty_num_ratings=100.0))"
   ]
  },
  {
   "cell_type": "code",
   "execution_count": null,
   "metadata": {},
   "outputs": [],
   "source": [
    "from IPython.display import Markdown, display\n",
    "import json\n",
    "from types import SimpleNamespace\n",
    "\n",
    "def render_table(headers: list[str], rows: list[list[str]]):\n",
    "    # Create the header row\n",
    "    md = \"| \" + \" | \".join(headers) + \" |\\n\"\n",
    "    md += \"| \" + \" | \".join([\"---\"] * len(headers)) + \" |\\n\"  # Separator row\n",
    "\n",
    "    # Add each row of data\n",
    "    for row in rows:\n",
    "        # Replace newline characters with <br> for Markdown rendering\n",
    "        sanitized_row = [cell.replace(\"\\n\", \"<br>\") for cell in row]\n",
    "        md += \"| \" + \" | \".join(sanitized_row) + \" |\\n\"\n",
    "\n",
    "    display(Markdown(md))\n",
    "\n",
    "test = None\n",
    "\n",
    "for schedule in schedules:\n",
    "    print(\n",
    "        f\"WEEK_RANGE: {ScheduleCompare.week_range(schedule):.2f} hrs, \"\n",
    "        f\"WEEK_TOTAL: {ScheduleCompare.week_total(schedule):.2f} hrs, \"\n",
    "        f\"BREAK_TOTAL: {ScheduleCompare.between_total(schedule):.2f} hrs\"\n",
    "    )\n",
    "\n",
    "    rows = []\n",
    "\n",
    "    def a(b):\n",
    "        print(SimpleNamespace(**b))\n",
    "        return SimpleNamespace(**b)\n",
    "\n",
    "    for cls in {_class.subject_course: _class for _class in [*schedule.classes[\"normal\"], *schedule.classes[\"online\"]]}.values():\n",
    "        # print(json.loads(json.dumps(cls.info), object_hook=a))\n",
    "        test = json.dumps(cls.info, indent=4)\n",
    "        print(json.dumps(cls.info, indent=4))\n",
    "        rows.append(\n",
    "            (\n",
    "                cls.subject_course,\n",
    "                cls.section,\n",
    "                (\"\\n\").join([f\"{teacher.first_name} {teacher.last_name}\" for teacher in cls.get_teachers()]),\n",
    "                (\"\\n\").join([f\"{teacher.avg_rating_rounded:.2f}\" for teacher in cls.get_teachers()]),\n",
    "                \"In-person\" if cls.info[\"instructionalMethod\"] == \"CLAS\" else \"Online\",\n",
    "                str(cls.info[\"creditHourLow\"]),\n",
    "            )\n",
    "        )\n",
    "\n",
    "    render_table([\"Class\", \"Section\", \"Teachers\", \"Ratings\", \"Type\", \"Credits\"], rows)\n",
    "\n",
    "    schedule.show()\n",
    "    break"
   ]
  },
  {
   "cell_type": "code",
   "execution_count": 38,
   "metadata": {},
   "outputs": [
    {
     "name": "stdout",
     "output_type": "stream",
     "text": [
      "{\n",
      "    \"id\": 855632,\n",
      "    \"term\": \"202503\",\n",
      "    \"termDesc\": \"2025 Spring\",\n",
      "    \"courseReferenceNumber\": \"46043\",\n",
      "    \"partOfTerm\": \"1\",\n",
      "    \"courseNumber\": \"0851\",\n",
      "    \"subject\": \"IH\",\n",
      "    \"subjectDescription\": \"Intellectual Heritage\",\n",
      "    \"sequenceNumber\": \"710\",\n",
      "    \"campusDescription\": \"Main\",\n",
      "    \"scheduleTypeDescription\": \"Base Lecture\",\n",
      "    \"courseTitle\": \"Intellectual Heritage I: The Good Life\",\n",
      "    \"creditHours\": null,\n",
      "    \"maximumEnrollment\": 28,\n",
      "    \"enrollment\": 11,\n",
      "    \"seatsAvailable\": 17,\n",
      "    \"waitCapacity\": 5,\n",
      "    \"waitCount\": 0,\n",
      "    \"waitAvailable\": 5,\n",
      "    \"crossList\": null,\n",
      "    \"crossListCapacity\": null,\n",
      "    \"crossListCount\": null,\n",
      "    \"crossListAvailable\": null,\n",
      "    \"creditHourHigh\": null,\n",
      "    \"creditHourLow\": 3,\n",
      "    \"creditHourIndicator\": null,\n",
      "    \"openSection\": true,\n",
      "    \"linkIdentifier\": null,\n",
      "    \"isSectionLinked\": false,\n",
      "    \"subjectCourse\": \"IH0851\",\n",
      "    \"faculty\": [\n",
      "        {\n",
      "            \"bannerId\": \"131742\",\n",
      "            \"category\": null,\n",
      "            \"class\": \"net.hedtech.banner.student.faculty.FacultyResultDecorator\",\n",
      "            \"courseReferenceNumber\": \"46043\",\n",
      "            \"displayName\": \"Susan Bertolino\",\n",
      "            \"emailAddress\": \"sbertoli@temple.edu\",\n",
      "            \"primaryIndicator\": true,\n",
      "            \"term\": \"202503\"\n",
      "        }\n",
      "    ],\n",
      "    \"meetingsFaculty\": [\n",
      "        {\n",
      "            \"category\": \"01\",\n",
      "            \"class\": \"net.hedtech.banner.student.schedule.SectionSessionDecorator\",\n",
      "            \"courseReferenceNumber\": \"46043\",\n",
      "            \"faculty\": [],\n",
      "            \"meetingTime\": {\n",
      "                \"beginTime\": null,\n",
      "                \"building\": null,\n",
      "                \"buildingDescription\": null,\n",
      "                \"campus\": null,\n",
      "                \"campusDescription\": null,\n",
      "                \"category\": \"01\",\n",
      "                \"class\": \"net.hedtech.banner.general.overall.MeetingTimeDecorator\",\n",
      "                \"courseReferenceNumber\": \"46043\",\n",
      "                \"creditHourSession\": 3.0,\n",
      "                \"endDate\": \"05/06/2025\",\n",
      "                \"endTime\": null,\n",
      "                \"friday\": false,\n",
      "                \"hoursWeek\": 3.0,\n",
      "                \"meetingScheduleType\": \"BAS\",\n",
      "                \"meetingType\": \"OLL\",\n",
      "                \"meetingTypeDescription\": \"Online course activity\",\n",
      "                \"monday\": false,\n",
      "                \"room\": null,\n",
      "                \"saturday\": false,\n",
      "                \"startDate\": \"01/13/2025\",\n",
      "                \"sunday\": false,\n",
      "                \"term\": \"202503\",\n",
      "                \"thursday\": false,\n",
      "                \"tuesday\": false,\n",
      "                \"wednesday\": false\n",
      "            },\n",
      "            \"term\": \"202503\"\n",
      "        }\n",
      "    ],\n",
      "    \"status\": {\n",
      "        \"select\": false,\n",
      "        \"sectionOpen\": true,\n",
      "        \"timeConflict\": false,\n",
      "        \"restricted\": false,\n",
      "        \"sectionStatus\": true\n",
      "    },\n",
      "    \"reservedSeatSummary\": null,\n",
      "    \"sectionAttributes\": [\n",
      "        {\n",
      "            \"class\": \"net.hedtech.banner.student.schedule.SectionDegreeProgramAttributeDecorator\",\n",
      "            \"code\": \"GY\",\n",
      "            \"courseReferenceNumber\": \"46043\",\n",
      "            \"description\": \"GenEd Intellectual Heritage I\",\n",
      "            \"isZTCAttribute\": false,\n",
      "            \"termCode\": \"202503\"\n",
      "        }\n",
      "    ],\n",
      "    \"instructionalMethod\": \"OLL\",\n",
      "    \"instructionalMethodDescription\": \"Online - no scheduled meetings\",\n",
      "    \"bookstores\": [\n",
      "        {\n",
      "            \"url\": \"https://www.bkstr.com/webApp/discoverView?bookstore_id-1=2360&amp;term_id-1=202503&amp;crn-1=46043\",\n",
      "            \"label\": \"View Course Materials\"\n",
      "        }\n",
      "    ],\n",
      "    \"feeAmount\": null\n",
      "}\n",
      "IH0851\n",
      "False\n"
     ]
    }
   ],
   "source": [
    "import json\n",
    "from types import SimpleNamespace\n",
    "import re\n",
    "\n",
    "def to_snake_case(key):\n",
    "    # Convert CamelCase or mixedCase to snake_case\n",
    "    return re.sub(r'(?<!^)(?=[A-Z])', '_', key).lower()\n",
    "\n",
    "def custom_object_hook(d):\n",
    "    # Transform keys to snake_case and create a SimpleNamespace\n",
    "    return SimpleNamespace(**d)\n",
    "\n",
    "# Example JSON string\n",
    "# data = '{\"name\": \"Alice\", \"age\": 30, \"cityName\": \"Wonderland\"}'\n",
    "\n",
    "print(test)\n",
    "\n",
    "# Parse JSON with custom object_hook\n",
    "namespace_obj = json.loads(test, object_hook=custom_object_hook)\n",
    "\n",
    "print(namespace_obj.subjectCourse)      # Output: Alice\n",
    "print(namespace_obj.sectionAttributes[0].isZTCAttribute)       # Output: 30\n"
   ]
  }
 ],
 "metadata": {
  "kernelspec": {
   "display_name": ".venv",
   "language": "python",
   "name": "python3"
  },
  "language_info": {
   "codemirror_mode": {
    "name": "ipython",
    "version": 3
   },
   "file_extension": ".py",
   "mimetype": "text/x-python",
   "name": "python",
   "nbconvert_exporter": "python",
   "pygments_lexer": "ipython3",
   "version": "3.12.4"
  }
 },
 "nbformat": 4,
 "nbformat_minor": 2
}
